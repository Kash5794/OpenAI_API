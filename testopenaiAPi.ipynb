{
 "cells": [
  {
   "cell_type": "code",
   "execution_count": 4,
   "id": "5041a81e",
   "metadata": {},
   "outputs": [],
   "source": [
    "import openai\n"
   ]
  },
  {
   "cell_type": "markdown",
   "id": "8c4361ca",
   "metadata": {},
   "source": [
    "# Generating openAI API key"
   ]
  },
  {
   "cell_type": "code",
   "execution_count": 2,
   "id": "b1619d10",
   "metadata": {},
   "outputs": [],
   "source": [
    "apiKey=\"insert your OpenAI API key here\""
   ]
  },
  {
   "cell_type": "code",
   "execution_count": 5,
   "id": "6f729383",
   "metadata": {},
   "outputs": [],
   "source": [
    "openai.api_key=apiKey"
   ]
  },
  {
   "cell_type": "code",
   "execution_count": 8,
   "id": "58a6f794-f0d7-409b-8d0f-6c392b1aca74",
   "metadata": {},
   "outputs": [
    {
     "data": {
      "text/plain": [
       "[Model(id='dall-e-3', created=1698785189, object='model', owned_by='system'),\n",
       " Model(id='dall-e-2', created=1698798177, object='model', owned_by='system'),\n",
       " Model(id='tts-1-hd-1106', created=1699053533, object='model', owned_by='system'),\n",
       " Model(id='tts-1-hd', created=1699046015, object='model', owned_by='system'),\n",
       " Model(id='text-embedding-3-large', created=1705953180, object='model', owned_by='system'),\n",
       " Model(id='babbage-002', created=1692634615, object='model', owned_by='system'),\n",
       " Model(id='text-embedding-3-small', created=1705948997, object='model', owned_by='system'),\n",
       " Model(id='tts-1', created=1681940951, object='model', owned_by='openai-internal'),\n",
       " Model(id='gpt-3.5-turbo', created=1677610602, object='model', owned_by='openai'),\n",
       " Model(id='whisper-1', created=1677532384, object='model', owned_by='openai-internal'),\n",
       " Model(id='text-embedding-ada-002', created=1671217299, object='model', owned_by='openai-internal'),\n",
       " Model(id='gpt-3.5-turbo-16k', created=1683758102, object='model', owned_by='openai-internal'),\n",
       " Model(id='davinci-002', created=1692634301, object='model', owned_by='system'),\n",
       " Model(id='tts-1-1106', created=1699053241, object='model', owned_by='system'),\n",
       " Model(id='gpt-3.5-turbo-0125', created=1706048358, object='model', owned_by='system'),\n",
       " Model(id='gpt-3.5-turbo-1106', created=1698959748, object='model', owned_by='system'),\n",
       " Model(id='gpt-3.5-turbo-instruct-0914', created=1694122472, object='model', owned_by='system'),\n",
       " Model(id='gpt-3.5-turbo-instruct', created=1692901427, object='model', owned_by='system'),\n",
       " Model(id='gpt-4o-mini-2024-07-18', created=1721172717, object='model', owned_by='system'),\n",
       " Model(id='gpt-4o-mini', created=1721172741, object='model', owned_by='system')]"
      ]
     },
     "execution_count": 8,
     "metadata": {},
     "output_type": "execute_result"
    }
   ],
   "source": [
    "model_list=list(openai.models.list())\n",
    "model_list"
   ]
  },
  {
   "cell_type": "code",
   "execution_count": 12,
   "id": "76233b42-ab9c-4495-8c23-a7887ff80457",
   "metadata": {},
   "outputs": [
    {
     "data": {
      "text/html": [
       "<div>\n",
       "<style scoped>\n",
       "    .dataframe tbody tr th:only-of-type {\n",
       "        vertical-align: middle;\n",
       "    }\n",
       "\n",
       "    .dataframe tbody tr th {\n",
       "        vertical-align: top;\n",
       "    }\n",
       "\n",
       "    .dataframe thead th {\n",
       "        text-align: right;\n",
       "    }\n",
       "</style>\n",
       "<table border=\"1\" class=\"dataframe\">\n",
       "  <thead>\n",
       "    <tr style=\"text-align: right;\">\n",
       "      <th></th>\n",
       "      <th>id</th>\n",
       "      <th>created</th>\n",
       "      <th>object</th>\n",
       "      <th>owned_by</th>\n",
       "    </tr>\n",
       "  </thead>\n",
       "  <tbody>\n",
       "    <tr>\n",
       "      <th>0</th>\n",
       "      <td>(id, dall-e-3)</td>\n",
       "      <td>(created, 1698785189)</td>\n",
       "      <td>(object, model)</td>\n",
       "      <td>(owned_by, system)</td>\n",
       "    </tr>\n",
       "    <tr>\n",
       "      <th>1</th>\n",
       "      <td>(id, dall-e-2)</td>\n",
       "      <td>(created, 1698798177)</td>\n",
       "      <td>(object, model)</td>\n",
       "      <td>(owned_by, system)</td>\n",
       "    </tr>\n",
       "    <tr>\n",
       "      <th>2</th>\n",
       "      <td>(id, tts-1-hd-1106)</td>\n",
       "      <td>(created, 1699053533)</td>\n",
       "      <td>(object, model)</td>\n",
       "      <td>(owned_by, system)</td>\n",
       "    </tr>\n",
       "    <tr>\n",
       "      <th>3</th>\n",
       "      <td>(id, tts-1-hd)</td>\n",
       "      <td>(created, 1699046015)</td>\n",
       "      <td>(object, model)</td>\n",
       "      <td>(owned_by, system)</td>\n",
       "    </tr>\n",
       "    <tr>\n",
       "      <th>4</th>\n",
       "      <td>(id, text-embedding-3-large)</td>\n",
       "      <td>(created, 1705953180)</td>\n",
       "      <td>(object, model)</td>\n",
       "      <td>(owned_by, system)</td>\n",
       "    </tr>\n",
       "    <tr>\n",
       "      <th>5</th>\n",
       "      <td>(id, babbage-002)</td>\n",
       "      <td>(created, 1692634615)</td>\n",
       "      <td>(object, model)</td>\n",
       "      <td>(owned_by, system)</td>\n",
       "    </tr>\n",
       "    <tr>\n",
       "      <th>6</th>\n",
       "      <td>(id, text-embedding-3-small)</td>\n",
       "      <td>(created, 1705948997)</td>\n",
       "      <td>(object, model)</td>\n",
       "      <td>(owned_by, system)</td>\n",
       "    </tr>\n",
       "    <tr>\n",
       "      <th>7</th>\n",
       "      <td>(id, tts-1)</td>\n",
       "      <td>(created, 1681940951)</td>\n",
       "      <td>(object, model)</td>\n",
       "      <td>(owned_by, openai-internal)</td>\n",
       "    </tr>\n",
       "    <tr>\n",
       "      <th>8</th>\n",
       "      <td>(id, gpt-3.5-turbo)</td>\n",
       "      <td>(created, 1677610602)</td>\n",
       "      <td>(object, model)</td>\n",
       "      <td>(owned_by, openai)</td>\n",
       "    </tr>\n",
       "    <tr>\n",
       "      <th>9</th>\n",
       "      <td>(id, whisper-1)</td>\n",
       "      <td>(created, 1677532384)</td>\n",
       "      <td>(object, model)</td>\n",
       "      <td>(owned_by, openai-internal)</td>\n",
       "    </tr>\n",
       "    <tr>\n",
       "      <th>10</th>\n",
       "      <td>(id, text-embedding-ada-002)</td>\n",
       "      <td>(created, 1671217299)</td>\n",
       "      <td>(object, model)</td>\n",
       "      <td>(owned_by, openai-internal)</td>\n",
       "    </tr>\n",
       "    <tr>\n",
       "      <th>11</th>\n",
       "      <td>(id, gpt-3.5-turbo-16k)</td>\n",
       "      <td>(created, 1683758102)</td>\n",
       "      <td>(object, model)</td>\n",
       "      <td>(owned_by, openai-internal)</td>\n",
       "    </tr>\n",
       "    <tr>\n",
       "      <th>12</th>\n",
       "      <td>(id, davinci-002)</td>\n",
       "      <td>(created, 1692634301)</td>\n",
       "      <td>(object, model)</td>\n",
       "      <td>(owned_by, system)</td>\n",
       "    </tr>\n",
       "    <tr>\n",
       "      <th>13</th>\n",
       "      <td>(id, tts-1-1106)</td>\n",
       "      <td>(created, 1699053241)</td>\n",
       "      <td>(object, model)</td>\n",
       "      <td>(owned_by, system)</td>\n",
       "    </tr>\n",
       "    <tr>\n",
       "      <th>14</th>\n",
       "      <td>(id, gpt-3.5-turbo-0125)</td>\n",
       "      <td>(created, 1706048358)</td>\n",
       "      <td>(object, model)</td>\n",
       "      <td>(owned_by, system)</td>\n",
       "    </tr>\n",
       "    <tr>\n",
       "      <th>15</th>\n",
       "      <td>(id, gpt-3.5-turbo-1106)</td>\n",
       "      <td>(created, 1698959748)</td>\n",
       "      <td>(object, model)</td>\n",
       "      <td>(owned_by, system)</td>\n",
       "    </tr>\n",
       "    <tr>\n",
       "      <th>16</th>\n",
       "      <td>(id, gpt-3.5-turbo-instruct-0914)</td>\n",
       "      <td>(created, 1694122472)</td>\n",
       "      <td>(object, model)</td>\n",
       "      <td>(owned_by, system)</td>\n",
       "    </tr>\n",
       "    <tr>\n",
       "      <th>17</th>\n",
       "      <td>(id, gpt-3.5-turbo-instruct)</td>\n",
       "      <td>(created, 1692901427)</td>\n",
       "      <td>(object, model)</td>\n",
       "      <td>(owned_by, system)</td>\n",
       "    </tr>\n",
       "    <tr>\n",
       "      <th>18</th>\n",
       "      <td>(id, gpt-4o-mini-2024-07-18)</td>\n",
       "      <td>(created, 1721172717)</td>\n",
       "      <td>(object, model)</td>\n",
       "      <td>(owned_by, system)</td>\n",
       "    </tr>\n",
       "    <tr>\n",
       "      <th>19</th>\n",
       "      <td>(id, gpt-4o-mini)</td>\n",
       "      <td>(created, 1721172741)</td>\n",
       "      <td>(object, model)</td>\n",
       "      <td>(owned_by, system)</td>\n",
       "    </tr>\n",
       "  </tbody>\n",
       "</table>\n",
       "</div>"
      ],
      "text/plain": [
       "                                   id                created           object  \\\n",
       "0                      (id, dall-e-3)  (created, 1698785189)  (object, model)   \n",
       "1                      (id, dall-e-2)  (created, 1698798177)  (object, model)   \n",
       "2                 (id, tts-1-hd-1106)  (created, 1699053533)  (object, model)   \n",
       "3                      (id, tts-1-hd)  (created, 1699046015)  (object, model)   \n",
       "4        (id, text-embedding-3-large)  (created, 1705953180)  (object, model)   \n",
       "5                   (id, babbage-002)  (created, 1692634615)  (object, model)   \n",
       "6        (id, text-embedding-3-small)  (created, 1705948997)  (object, model)   \n",
       "7                         (id, tts-1)  (created, 1681940951)  (object, model)   \n",
       "8                 (id, gpt-3.5-turbo)  (created, 1677610602)  (object, model)   \n",
       "9                     (id, whisper-1)  (created, 1677532384)  (object, model)   \n",
       "10       (id, text-embedding-ada-002)  (created, 1671217299)  (object, model)   \n",
       "11            (id, gpt-3.5-turbo-16k)  (created, 1683758102)  (object, model)   \n",
       "12                  (id, davinci-002)  (created, 1692634301)  (object, model)   \n",
       "13                   (id, tts-1-1106)  (created, 1699053241)  (object, model)   \n",
       "14           (id, gpt-3.5-turbo-0125)  (created, 1706048358)  (object, model)   \n",
       "15           (id, gpt-3.5-turbo-1106)  (created, 1698959748)  (object, model)   \n",
       "16  (id, gpt-3.5-turbo-instruct-0914)  (created, 1694122472)  (object, model)   \n",
       "17       (id, gpt-3.5-turbo-instruct)  (created, 1692901427)  (object, model)   \n",
       "18       (id, gpt-4o-mini-2024-07-18)  (created, 1721172717)  (object, model)   \n",
       "19                  (id, gpt-4o-mini)  (created, 1721172741)  (object, model)   \n",
       "\n",
       "                       owned_by  \n",
       "0            (owned_by, system)  \n",
       "1            (owned_by, system)  \n",
       "2            (owned_by, system)  \n",
       "3            (owned_by, system)  \n",
       "4            (owned_by, system)  \n",
       "5            (owned_by, system)  \n",
       "6            (owned_by, system)  \n",
       "7   (owned_by, openai-internal)  \n",
       "8            (owned_by, openai)  \n",
       "9   (owned_by, openai-internal)  \n",
       "10  (owned_by, openai-internal)  \n",
       "11  (owned_by, openai-internal)  \n",
       "12           (owned_by, system)  \n",
       "13           (owned_by, system)  \n",
       "14           (owned_by, system)  \n",
       "15           (owned_by, system)  \n",
       "16           (owned_by, system)  \n",
       "17           (owned_by, system)  \n",
       "18           (owned_by, system)  \n",
       "19           (owned_by, system)  "
      ]
     },
     "execution_count": 12,
     "metadata": {},
     "output_type": "execute_result"
    }
   ],
   "source": [
    "import pandas as pd\n",
    "pd.DataFrame(model_list, columns=[\"id\",\"created\",\"object\",\"owned_by\"])"
   ]
  },
  {
   "cell_type": "code",
   "execution_count": 16,
   "id": "0a1e5000-443c-451f-acc9-114159458579",
   "metadata": {},
   "outputs": [],
   "source": [
    "from openai import OpenAI\n",
    "client = OpenAI(api_key=apiKey)\n",
    "\n",
    "response = client.chat.completions.create(\n",
    "  model=\"gpt-3.5-turbo\",\n",
    "  messages=[\n",
    "    {\n",
    "      \"role\": \"system\",\n",
    "      \"content\": [\n",
    "        {\n",
    "          \"type\": \"text\",\n",
    "          \"text\": \"As an high school teacher \"\n",
    "        }\n",
    "      ]\n",
    "    },\n",
    "    {\n",
    "      \"role\": \"user\",\n",
    "      \"content\": [\n",
    "        {\n",
    "          \"type\": \"text\",\n",
    "          \"text\": \"What can you say about planet Mars?\"\n",
    "        }\n",
    "      ]\n",
    "    }\n",
    "  ],\n",
    "  temperature=1,\n",
    "  max_tokens=256,\n",
    "  top_p=1,\n",
    "  frequency_penalty=0,\n",
    "  presence_penalty=0,\n",
    "  response_format={\n",
    "    \"type\": \"text\"\n",
    "  }\n",
    ")"
   ]
  },
  {
   "cell_type": "code",
   "execution_count": 19,
   "id": "cba147b6-d670-41fd-a930-f8079bfb456c",
   "metadata": {},
   "outputs": [
    {
     "data": {
      "text/plain": [
       "'Mars is often referred to as the \"Red Planet\" due to its reddish appearance, which is caused by iron oxide, or rust, on its surface. It is the fourth planet from the Sun in our solar system and is known for its similarities to Earth, such as a day length and seasonal changes. \\n\\nMars has a thin atmosphere composed mostly of carbon dioxide, and its surface features include vast deserts, polar ice caps, and the largest volcano in the solar system, Olympus Mons. There is also evidence of liquid water having flowed on the surface in the past, indicating the potential for the existence of life at some point in Mars\\' history. \\n\\nIn recent years, Mars has been a focal point for space exploration efforts, with multiple robotic missions sent to study its surface and atmosphere. There are also plans for future human exploration missions to Mars, with the goal of potentially establishing a human presence on the planet. Overall, Mars is a fascinating world that continues to intrigue scientists and space enthusiasts alike.'"
      ]
     },
     "execution_count": 19,
     "metadata": {},
     "output_type": "execute_result"
    }
   ],
   "source": [
    "response.choices[0].message.content"
   ]
  },
  {
   "cell_type": "code",
   "execution_count": 21,
   "id": "1ed46c0b-e8db-4e5c-8548-aee38fb5f6b7",
   "metadata": {},
   "outputs": [],
   "source": [
    "import langchain"
   ]
  },
  {
   "cell_type": "code",
   "execution_count": 23,
   "id": "1083c5fb-1f1f-4a62-b5e1-f94c44ed23ed",
   "metadata": {},
   "outputs": [],
   "source": [
    "student_description = \"Akin is a student of computer science at Osun state university in Nigeria. He is a Nigerian and has a GPA of 5.0. Akin is well known for his programming skills and is an active member of the College's AI Club. He hopes to pursue a career in software engineering after his graduation\"\n"
   ]
  },
  {
   "cell_type": "code",
   "execution_count": 24,
   "id": "05ef078b-0bdb-451a-8ec2-0d439be6543a",
   "metadata": {},
   "outputs": [
    {
     "data": {
      "text/plain": [
       "\"Akin is a student of computer science at Osun state university in Nigeria. He is a Nigerian and has a GPA of 5.0. Akin is well known for his programming skills and is an active member of the College's AI Club. He hopes to pursue a career in software engineering after his graduation\""
      ]
     },
     "execution_count": 24,
     "metadata": {},
     "output_type": "execute_result"
    }
   ],
   "source": [
    "student_description"
   ]
  },
  {
   "cell_type": "code",
   "execution_count": 25,
   "id": "5f482ec8-83b4-4fa3-bcd9-30aed4b281e6",
   "metadata": {},
   "outputs": [],
   "source": [
    "prompt = f''' Please extract the following information from the given text and return it as a JSON object\n",
    "\n",
    "name\n",
    "college\n",
    "grades\n",
    "club\n",
    "\n",
    "This is the body to extract the information from: {student_description}\n",
    "'''"
   ]
  },
  {
   "cell_type": "code",
   "execution_count": 26,
   "id": "3835411e-3fa4-4b00-b259-c544ac0db6af",
   "metadata": {},
   "outputs": [
    {
     "data": {
      "text/plain": [
       "\" Please extract the following information from the given text and return it as a JSON object\\n\\nname\\ncollege\\ngrades\\nclub\\n\\nThis is the body to extract the information from: Akin is a student of computer science at Osun state university in Nigeria. He is a Nigerian and has a GPA of 5.0. Akin is well known for his programming skills and is an active member of the College's AI Club. He hopes to pursue a career in software engineering after his graduation\\n\""
      ]
     },
     "execution_count": 26,
     "metadata": {},
     "output_type": "execute_result"
    }
   ],
   "source": [
    "prompt"
   ]
  },
  {
   "cell_type": "code",
   "execution_count": 39,
   "id": "15bcf5e9-b373-4663-a289-e43f01c05c3a",
   "metadata": {},
   "outputs": [],
   "source": [
    "from openai import OpenAI\n",
    "client = OpenAI(api_key=apiKey)"
   ]
  },
  {
   "cell_type": "code",
   "execution_count": null,
   "id": "71e2845f-5910-4af6-a5fa-74f380c8b4d5",
   "metadata": {},
   "outputs": [],
   "source": []
  },
  {
   "cell_type": "code",
   "execution_count": null,
   "id": "c34748cf-c7cf-4044-96eb-fcb35169539a",
   "metadata": {},
   "outputs": [],
   "source": []
  },
  {
   "cell_type": "code",
   "execution_count": 30,
   "id": "1526a68c-7ad9-4e08-9892-88f85fcc0bda",
   "metadata": {},
   "outputs": [],
   "source": [
    "response = client.chat.completions.create(\n",
    " model=\"gpt-3.5-turbo\",\n",
    "  messages=[\n",
    "\n",
    "    {\n",
    "      \"role\": \"user\",\n",
    "      \"content\": prompt\n",
    "    }\n",
    "  ]\n",
    "    \n",
    ")"
   ]
  },
  {
   "cell_type": "code",
   "execution_count": 36,
   "id": "b12635f6-db48-425b-8ea3-cca981d19fc3",
   "metadata": {},
   "outputs": [],
   "source": [
    "output = response.choices[0].message.content"
   ]
  },
  {
   "cell_type": "code",
   "execution_count": null,
   "id": "2e056918-d72b-4473-bd9f-65c80381ac61",
   "metadata": {},
   "outputs": [],
   "source": []
  },
  {
   "cell_type": "code",
   "execution_count": 37,
   "id": "94819a79-6b96-42bd-9a69-ea354f2fe5b0",
   "metadata": {},
   "outputs": [
    {
     "data": {
      "text/plain": [
       "{'name': 'Akin',\n",
       " 'college': 'Osun state university',\n",
       " 'grades': 5.0,\n",
       " 'club': 'AI Club'}"
      ]
     },
     "execution_count": 37,
     "metadata": {},
     "output_type": "execute_result"
    }
   ],
   "source": [
    "import json\n",
    "json.loads(output)"
   ]
  },
  {
   "cell_type": "code",
   "execution_count": 45,
   "id": "ae8d8eca-8d22-44b1-9cad-38cbb1d81b7d",
   "metadata": {},
   "outputs": [],
   "source": [
    "student_custom_function = [{\n",
    "'name': 'extract_student_info',\n",
    "'description': 'Get the student information from the body of the input text',\n",
    "'parameters':{\n",
    "    'type': 'object',\n",
    "    'properties': {\n",
    "        'name':{\n",
    "            'type':'string',\n",
    "            'description':'Name of the person'\n",
    "        },\n",
    "        'college': {\n",
    "            'type':'string',\n",
    "            'description': 'The college name'\n",
    "        },\n",
    "        'grades':{\n",
    "            'type':'string',\n",
    "             'description': 'CGPA of the student'\n",
    "        },\n",
    "        'club':{\n",
    "            'type':'string',\n",
    "            'description':'college club for extracurricular activities.'\n",
    "    }\n",
    "}\n",
    "}  \n",
    "}]"
   ]
  },
  {
   "cell_type": "code",
   "execution_count": 44,
   "id": "7064cb65-ab14-424c-abe0-5aa508a6b15d",
   "metadata": {},
   "outputs": [],
   "source": [
    "student_description1 = \"Akin is a student of computer science at Osun state university in Nigeria. He is a Nigerian and has a GPA of 5.0. Akin is well known for his programming skills and is an active member of the College's AI Club. He hopes to pursue a career in software engineering after his graduation\"\n",
    "student_description2 = \"Timmy is a student of political science at Covenant university in Nigeria. He is a Nigerian and has a GPA of 4.0. Timmy is well known for his socio-political skills and is an active member of the College's politics Club. He hopes to pursue a career in human welfarism after his graduation\"\n"
   ]
  },
  {
   "cell_type": "code",
   "execution_count": 46,
   "id": "7e3621b6-bb36-4671-9eab-751fa093e7d2",
   "metadata": {},
   "outputs": [],
   "source": [
    "response = client.chat.completions.create(\n",
    " model=\"gpt-3.5-turbo\",\n",
    "  messages=[\n",
    "\n",
    "    {\n",
    "      \"role\": \"user\",\n",
    "      \"content\": student_description1\n",
    "    },\n",
    "    \n",
    "  ],\n",
    "    functions=student_custom_function\n",
    "    \n",
    ")"
   ]
  },
  {
   "cell_type": "code",
   "execution_count": 50,
   "id": "4c39cc59-adfb-4fca-b650-8b05f2dbfc39",
   "metadata": {},
   "outputs": [
    {
     "data": {
      "text/plain": [
       "{'name': 'Akin',\n",
       " 'college': 'Osun state university',\n",
       " 'grades': '5.0',\n",
       " 'club': 'AI Club'}"
      ]
     },
     "execution_count": 50,
     "metadata": {},
     "output_type": "execute_result"
    }
   ],
   "source": [
    "json.loads(response.choices[0].message.function_call.arguments)"
   ]
  },
  {
   "cell_type": "code",
   "execution_count": 52,
   "id": "20dab4c7-6d41-4bdd-9b37-675e4b9d8737",
   "metadata": {},
   "outputs": [
    {
     "name": "stdout",
     "output_type": "stream",
     "text": [
      "{'name': 'Akin', 'college': 'Osun state university', 'grades': '5.0', 'club': 'AI Club'}\n",
      "{'name': 'Timmy', 'college': 'Covenant university', 'grades': '4.0', 'club': 'politics Club'}\n"
     ]
    }
   ],
   "source": [
    "student_info = [student_description1,student_description2]\n",
    "\n",
    "for student in student_info:\n",
    "    response = client.chat.completions.create(\n",
    "    model=\"gpt-3.5-turbo\",\n",
    "    messages=[{ \"role\": \"user\",\"content\": student},],\n",
    "    functions=student_custom_function,\n",
    "    function_call='auto'\n",
    "        \n",
    "    )\n",
    "    res=json.loads(response.choices[0].message.function_call.arguments)\n",
    "    print(res)"
   ]
  },
  {
   "cell_type": "code",
   "execution_count": 59,
   "id": "191248da-ca57-4753-b975-122f5c550601",
   "metadata": {},
   "outputs": [],
   "source": [
    "flight_description = [{\n",
    "'name':'get_flight_info',\n",
    "'description':'Get flight information between two locations',\n",
    "'parameters':{\n",
    "    'type':'object',\n",
    "    'properties': {\n",
    "        'loc_origin':{\n",
    "            'type':'string',\n",
    "            'description':'The departure airport'\n",
    "        },\n",
    "        'loc_destination':{\n",
    "            'type':'string',\n",
    "            'description':'The destination airport'\n",
    "        }\n",
    "\n",
    "        \n",
    "    },\n",
    "    'required':['loc_origin','loc_destination']\n",
    "}\n",
    "\n",
    "    \n",
    "}]"
   ]
  },
  {
   "cell_type": "code",
   "execution_count": 57,
   "id": "ec0fa84c-c056-4f20-9769-dc02666bdee0",
   "metadata": {},
   "outputs": [],
   "source": [
    "user_prompt = \"When is the next flight from new delhi to mumbai?\""
   ]
  },
  {
   "cell_type": "code",
   "execution_count": 75,
   "id": "de2adb69-f8a8-4cb7-a8a2-9dff324c203c",
   "metadata": {},
   "outputs": [],
   "source": [
    "response2 = client.chat.completions.create(\n",
    "model=\"gpt-3.5-turbo\",\n",
    "messages=[{ \"role\": \"user\",\"content\": user_prompt },],\n",
    "functions=flight_description,\n",
    "function_call='auto'\n",
    "    \n",
    ")\n",
    "\n"
   ]
  },
  {
   "cell_type": "code",
   "execution_count": 76,
   "id": "3b580e7f-fa06-4df9-ad9a-e35dd52adcbd",
   "metadata": {},
   "outputs": [],
   "source": [
    "from datetime import datetime, timedelta\n",
    "\n",
    "def get_flight_info(loc_origin, loc_destination):\n",
    "    \"\"\" Get flight information between two locations\"\"\"\n",
    "    flight_info = {\n",
    "        \"loc_origin\":loc_origin,\n",
    "        \"loc_destination\":loc_destination,\n",
    "        \"datetime\": str(datetime.now() + timedelta(hours=2)),\n",
    "        \"airline\": \"KLM\",\n",
    "        \"flight\" :\"KL643\"\n",
    "    }\n",
    "    return json.dumps(flight_info)"
   ]
  },
  {
   "cell_type": "code",
   "execution_count": 77,
   "id": "01ff9b23-08d5-4893-8140-89fd4d998b6d",
   "metadata": {},
   "outputs": [],
   "source": [
    "params=json.loads(response2.choices[0].message.function_call.arguments)"
   ]
  },
  {
   "cell_type": "code",
   "execution_count": 78,
   "id": "1db494f1-d75d-42e8-bb14-c8c0c1e109ff",
   "metadata": {},
   "outputs": [
    {
     "data": {
      "text/plain": [
       "FunctionCall(arguments='{\"loc_origin\":\"New Delhi\",\"loc_destination\":\"Mumbai\"}', name='get_flight_info')"
      ]
     },
     "execution_count": 78,
     "metadata": {},
     "output_type": "execute_result"
    }
   ],
   "source": [
    "response2.choices[0].message.function_call"
   ]
  },
  {
   "cell_type": "code",
   "execution_count": 79,
   "id": "bbf857b1-06e6-4262-8085-a90a8f38d99e",
   "metadata": {},
   "outputs": [],
   "source": [
    "chosen_function = eval(response2.choices[0].message.function_call.name)"
   ]
  },
  {
   "cell_type": "code",
   "execution_count": null,
   "id": "b51ff6cc-6506-4c1f-a768-7ece4d6fedd5",
   "metadata": {},
   "outputs": [],
   "source": []
  },
  {
   "cell_type": "code",
   "execution_count": 74,
   "id": "43c5ed30-3469-4116-b708-b03c6b4ecff1",
   "metadata": {},
   "outputs": [
    {
     "data": {
      "text/plain": [
       "'{\"loc_origin\": \"DEL\", \"loc_destination\": \"BOM\", \"datetime\": \"2024-08-09 18:45:17.926312\", \"airline\": \"KLM\", \"flight\": \"KL643\"}'"
      ]
     },
     "execution_count": 74,
     "metadata": {},
     "output_type": "execute_result"
    }
   ],
   "source": [
    "flight = chosen_function(**params)\n",
    "flight"
   ]
  },
  {
   "cell_type": "code",
   "execution_count": 80,
   "id": "30284c7d-eb2d-4bf5-b1e7-bc10cb21f3b7",
   "metadata": {},
   "outputs": [],
   "source": [
    "response3 = client.chat.completions.create(\n",
    "model = \"gpt-3.5-turbo\",\n",
    "messages = [\n",
    "    {\"role\":\"user\",\"content\":user_prompt},\n",
    "    {\"role\":\"function\",\"name\":response2.choices[0].message.function_call.name, \"content\":flight}\n",
    "    \n",
    "],\n",
    "    functions = flight_description,\n",
    "    function_call = \"auto\",\n",
    "    \n",
    ")"
   ]
  },
  {
   "cell_type": "code",
   "execution_count": 81,
   "id": "a8fd05e8-90dc-43aa-9a2d-0515f45b91b2",
   "metadata": {},
   "outputs": [
    {
     "data": {
      "text/plain": [
       "ChatCompletionMessage(content='The next flight from New Delhi (DEL) to Mumbai (BOM) is on August 9, 2024 at 18:45. The flight is operated by KLM with flight number KL643.', refusal=None, role='assistant', function_call=None, tool_calls=None)"
      ]
     },
     "execution_count": 81,
     "metadata": {},
     "output_type": "execute_result"
    }
   ],
   "source": [
    "response3.choices[0].message"
   ]
  },
  {
   "cell_type": "raw",
   "id": "6deaf993-82b2-4d52-93b8-8baa4d193840",
   "metadata": {},
   "source": [
    "Function Calling: it connects the LLM to external tools"
   ]
  }
 ],
 "metadata": {
  "kernelspec": {
   "display_name": "Python 3 (ipykernel)",
   "language": "python",
   "name": "python3"
  },
  "language_info": {
   "codemirror_mode": {
    "name": "ipython",
    "version": 3
   },
   "file_extension": ".py",
   "mimetype": "text/x-python",
   "name": "python",
   "nbconvert_exporter": "python",
   "pygments_lexer": "ipython3",
   "version": "3.9.19"
  }
 },
 "nbformat": 4,
 "nbformat_minor": 5
}
